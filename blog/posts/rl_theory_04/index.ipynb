{
 "cells": [
  {
   "attachments": {},
   "cell_type": "markdown",
   "metadata": {},
   "source": [
    "---\n",
    "title: \"Theory of RL IV: Monte Carlo Methods\"\n",
    "date: \"2021-05-06\"\n",
    "image: \"image.png\"\n",
    "format:\n",
    "  html:\n",
    "    code-fold: true\n",
    "    code-line-numbers: false\n",
    "jupyter: python3\n",
    "---"
   ]
  },
  {
   "attachments": {},
   "cell_type": "markdown",
   "metadata": {},
   "source": [
    "From now on, we no longer assume complete knowledge of the environment. But how can we evaluate and improve policies without full access to the MDP? In this post, we'll look at Monte Carlo (MC) methods which **only require episodes of experience**, that is, sample trajectories of states, actions, and rewards obtained from interaction with the environment. The key idea underlying MC methods is simply to **approximate the expected return by computing the mean observed return of sample episodes**. Accordingly, MC methods are only defined for episodic tasks since they need well-defined, complete returns.\n",
    "\n",
    "Below, we'll first discuss how MC methods solve the prediction problem, and then move on to the control problem. "
   ]
  },
  {
   "cell_type": "code",
   "execution_count": 1,
   "metadata": {},
   "outputs": [],
   "source": [
    "import numpy as np\n",
    "import matplotlib as plt\n",
    "from itertools import count\n",
    "import gym\n",
    "import gym_walk"
   ]
  },
  {
   "attachments": {},
   "cell_type": "markdown",
   "metadata": {},
   "source": [
    "## Monte Carlo Prediction"
   ]
  },
  {
   "attachments": {},
   "cell_type": "markdown",
   "metadata": {},
   "source": [
    "### Monte Carlo Estimation of State Values"
   ]
  },
  {
   "attachments": {},
   "cell_type": "markdown",
   "metadata": {},
   "source": [
    "MC prediction of the state-value function of a given policy is pretty straightforward. Recall that the value of a state $s$ under policy $\\pi$, $v_{\\pi}(s)$, is the expected return starting from that state. MC methods estimate $v_{\\pi}(s)$ by simply averaging the returns observed in sample episodes after visits to that state. That is, we sample complete episodes $S_t, A_t, R_{t+1}, S_{t+1}, \\dots, R_T, S_T \\sim \\pi$, calculate the return $G_t$ for all states encountered and finally estimate the value function by averaging the returns obtained from each state $s$. By the law of large numbers, this empirical mean converges to the expected value of $s$ as the number of visits to $s$ goes to infinity.\n",
    "\n",
    "Since $s$ may be visited multiple times in the same episode, we can define two slightly different algorithms: **first-visit MC prediction** (also called first-visit MC policy evaluation) which estimates $v_{\\pi}(s)$ by averaging only the returns following first visits to $s$, and **every-visit MC prediction** (every-visit MC policy evaluation) which averages the returns following all visits to state $s$.\n",
    "\n",
    "A naive implementation of first-visit MC prediction should make the idea clear. For each state $s$ we could keep a counter $N(S_t)$ and the total observed return $T(S_t)$, both persisting over all sampled episodes. *At the first time step* $t$ that state $S_t$ is visited in an episode, we increment the counter by $1$ and the total return by the observed return $G_t$:\n",
    "$$N(S_t) \\leftarrow N(S_t) + 1$$\n",
    "$$T(S_t) \\leftarrow T(S_t) + G_t$$\n",
    "Then, we can estimate the value $V(s)$ by computing the mean return:\n",
    "$$V(S_t) = \\dfrac{T(S_t)}{N(S_t)}$$\n",
    "\n",
    "By the law of large numbers, $V(s) \\rightarrow v_{\\pi}(s)$ as $N(s) \\rightarrow \\infty$. The implementation of every-visit MC prediction is nearly equivalent, we simply increment the counter and the total return *every time* $s$ is visited in an episode instead.\n",
    "\n",
    "However, this computation is of course quite inefficient. What we can do instead is **update the value estimates incrementally after each episode** which is equivalent:\n",
    "\n",
    "$$V(S_t) \\leftarrow V(S_t) + \\dfrac{1}{N(S_t)}(G_t - V(S_t)),$$\n",
    "\n",
    "where $G_t$ is called the **MC target** and $(G_t - V(S_t))$ the **MC error**. Intuitively, after each sampled episode we improve our estimate of the value function by taking a small step in the direction of the observed target.\n",
    "\n",
    "Note that in non-stationary problems we might prefer to track a running mean by using a constant step-size $\\alpha$. This allows us to \"forget\" old episodes:\n",
    "\n",
    "$$V(S_t) \\leftarrow V(S_t) + \\alpha (G_t - V(S_t))$$"
   ]
  },
  {
   "cell_type": "code",
   "execution_count": 2,
   "metadata": {},
   "outputs": [],
   "source": [
    "def decay(decay_ratio, start_val, min_val, max_steps, log_start=-2, log_base=10):\n",
    "    decay_steps = int(max_steps * decay_ratio)\n",
    "    values = np.logspace(log_start, 0, decay_steps, base=log_base, endpoint=True)[::-1]\n",
    "    values = (values - values.min()) / (values.max() - values.min())\n",
    "    values = (start_val - min_val) * values + min_val\n",
    "    values = np.pad(values, (0, max_steps - decay_steps), 'edge')\n",
    "    return values"
   ]
  },
  {
   "cell_type": "code",
   "execution_count": 28,
   "metadata": {},
   "outputs": [],
   "source": [
    "def sample_trajectory(env, pi, max_steps=200):\n",
    "    done = False\n",
    "    trajectory = []\n",
    "    \n",
    "    while not done:\n",
    "        state = env.reset()\n",
    "        \n",
    "        for t in count():\n",
    "            action = pi[state]\n",
    "            next_state, reward, done, _ = env.step(action)\n",
    "            trajectory.append((state, action, reward, next_state, done))\n",
    "            if done:\n",
    "                break\n",
    "            if t >= max_steps - 1:\n",
    "                trajectory = []\n",
    "                break\n",
    "            state = next_state\n",
    "    \n",
    "    return np.array(trajectory, dtype=\"object\")"
   ]
  },
  {
   "cell_type": "code",
   "execution_count": 29,
   "metadata": {},
   "outputs": [],
   "source": [
    "#| code-fold: show\n",
    "\n",
    "def mc_prediction(env, pi, gamma=1., n_episodes=1000, max_steps=200, first_visit=True, start_alpha=0.5, min_alpha=0.01, alpha_decay_ratio=0.5):\n",
    "    n_states = env.observation_space.n\n",
    "    value = np.zeros(n_states)\n",
    "    discounts = np.power(gamma, np.arange(max_steps))\n",
    "    alphas = decay(alpha_decay_ratio, start_alpha, min_alpha, n_episodes)\n",
    "    \n",
    "    for ep in range(n_episodes):\n",
    "        trajectory = sample_trajectory(env, pi, max_steps)\n",
    "        visited = np.zeros(n_states, dtype=\"bool\")\n",
    "        \n",
    "        for t, (state, _, reward, _, _) in enumerate(trajectory):\n",
    "            if first_visit and visited[state]:\n",
    "                continue\n",
    "            visited[state] = True\n",
    "            n_steps = len(trajectory[t:])\n",
    "            G = np.sum(discounts[:n_steps] * trajectory[t:, 2])\n",
    "            value[state] += alphas[ep] * (G - value[state])\n",
    "    \n",
    "    return value"
   ]
  },
  {
   "attachments": {},
   "cell_type": "markdown",
   "metadata": {},
   "source": [
    "Let's have a look at our toy environment again and compute the state values using MC prediction."
   ]
  },
  {
   "cell_type": "code",
   "execution_count": 30,
   "metadata": {},
   "outputs": [
    {
     "data": {
      "image/png": "[encoded data removed]",
      "text/plain": [
       "<Figure size 500x500 with 1 Axes>"
      ]
     },
     "metadata": {},
     "output_type": "display_data"
    }
   ],
   "source": [
    "env = gym.make(\"FrozenLake4x4-v2\")\n",
    "env.render()"
   ]
  },
  {
   "cell_type": "code",
   "execution_count": 33,
   "metadata": {},
   "outputs": [],
   "source": [
    "pi_right = {state : 1 for state in range(env.prob.shape[0])}\n",
    "mc_val = mc_prediction(env, pi_right)"
   ]
  },
  {
   "attachments": {},
   "cell_type": "markdown",
   "metadata": {},
   "source": [
    "If we compared this to the state values computed by the policy evaluation algorithm, we would notice that we merely got an approximation. Still, the results look good:"
   ]
  },
  {
   "cell_type": "code",
   "execution_count": 34,
   "metadata": {},
   "outputs": [
    {
     "data": {
      "image/png": "[encoded data removed]",
      "text/plain": [
       "<Figure size 500x500 with 2 Axes>"
      ]
     },
     "metadata": {},
     "output_type": "display_data"
    }
   ],
   "source": [
    "env.render(values=mc_val)"
   ]
  },
  {
   "attachments": {},
   "cell_type": "markdown",
   "metadata": {},
   "source": [
    "### Monte Carlo Estimation of Action Values"
   ]
  },
  {
   "attachments": {},
   "cell_type": "markdown",
   "metadata": {},
   "source": [
    "Without a model of the environment, state-values are not sufficient to determine a policy (how would we know which action to take in each state?). Hence, we must estimate the action-value function $q_{\\pi}(s)$ in order to tackle the control problem. Fortunately, MC estimation of action values is basically the same as for state values. We just need to consider visits to **state-action pairs** instead of states (a state-action pair $s,a$ means being in state $s$ and taking action $a$). The first-visit MC method averages the returns following the first visit per episode of a state-action pair, while the every-visit MC method averages over all visits of a state-action pair. \n",
    "\n",
    "$$N(S_t, A_t) \\leftarrow N(S_t, A_t) + 1$$\n",
    "\n",
    "$$Q(S_t, A_t) \\leftarrow Q(S_t, A_t) + \\dfrac{1}{N(S_t, A_t)} (G_t - Q(S_t, A_t))$$\n",
    "\n",
    "Both methods are guaranteed to converge to the true expected values as the number of visits to each state-action pair goes to infinity. This poses an important challenge, though. It is not guaranteed (unlikely in fact) that the sampled trajectories cover the entire state and action space, yet we need solid estimates of *all* alternatives in order to know which action is the best in each state. Put differently, we **need to gather experience with all available states and actions**, and not only the ones we visit when following our current policy. The good news is that this is not uncharted territory for us. With the $\\epsilon$-greedy action selection strategy we have already introduced a simple and yet very useful method to balance our need for both exploration and exploitation. Let's see how it fits into MC control."
   ]
  },
  {
   "attachments": {},
   "cell_type": "markdown",
   "metadata": {},
   "source": [
    "## Monte Carlo Control"
   ]
  },
  {
   "attachments": {},
   "cell_type": "markdown",
   "metadata": {},
   "source": [
    "Recall the pattern of **generalized policy iteration (GPI)** that we introduced in the last chapter on DP methods. GPI consists of two processes: estimating the value function of a given policy (policy evaluation) and improving the policy by making it greedy with respect to the value function (policy improvement). Alternating between these steps ultimately leads to the optimal policy and the optimal value function. \n",
    "\n",
    "How can we use this pattern with MC methods where we don't have complete knowledge of the MDP? As we already mentioned above, there are two changes to make. First, we need to estimate action-values instead of state-values since we otherwise wouldn't know which action we should take in each state. We therefore use **first-visit MC prediction of action values in the policy evaluation phase**. Second, we need to explore the entire state and action space since we otherwise wouldn't know whether there are more valuable states and actions than those that we visit under our current policy. This is why we use the **$\\epsilon$-greedy strategy to select actions in the policy improvement phase**. We still take the greedy action most of time, but we also satisfy our need for exploration by randomly choosing an action with small probability $\\epsilon$. Note that we should slowly **decay $\\epsilon$ towards zero** in order to make sure that the algorithm can converge to a greedy policy in the end. This is called being **Greedy in the Limit with Infinite Exploration (GLIE)** and guarantees convergence to the optimal policy. "
   ]
  },
  {
   "cell_type": "code",
   "execution_count": 35,
   "metadata": {},
   "outputs": [],
   "source": [
    "def sample_trajectory(env, pi, q, epsilon, max_steps=200):\n",
    "    done = False\n",
    "    trajectory = []\n",
    "    \n",
    "    while not done:\n",
    "        state = env.reset()\n",
    "        \n",
    "        for t in count():\n",
    "            action = pi(state, q, epsilon)\n",
    "            next_state, reward, done, _ = env.step(action)\n",
    "            trajectory.append((state, action, reward, next_state, done))\n",
    "            if done:\n",
    "                break\n",
    "            if t >= max_steps - 1:\n",
    "                trajectory = []\n",
    "                break\n",
    "            state = next_state\n",
    "    \n",
    "    return np.array(trajectory, dtype=\"object\")"
   ]
  },
  {
   "cell_type": "code",
   "execution_count": 36,
   "metadata": {},
   "outputs": [],
   "source": [
    "#| code-fold: show\n",
    "\n",
    "def mc_control(env, \n",
    "               gamma=1., \n",
    "               n_episodes=1000, \n",
    "               max_steps=200, \n",
    "               first_visit=True, \n",
    "               start_eps=1., \n",
    "               min_eps=0.1, \n",
    "               eps_decay_ratio=0.75, \n",
    "               start_alpha=0.5, \n",
    "               min_alpha=0.01, \n",
    "               alpha_decay_ratio=0.5):\n",
    "    n_states, n_actions = env.observation_space.n, env.action_space.n\n",
    "    discounts = np.power(gamma, np.arange(max_steps))\n",
    "    alphas = decay(alpha_decay_ratio, start_alpha, min_alpha, n_episodes)\n",
    "    epsilons = decay(eps_decay_ratio, start_eps, min_eps, n_episodes)\n",
    "    \n",
    "    q = np.zeros((n_states, n_actions))\n",
    "    \n",
    "    pi = lambda state, q, epsilon: np.argmax(q[state]) if np.random.random() > epsilon else np.random.randint(len(q[state]))\n",
    "    \n",
    "    for ep in range(n_episodes):\n",
    "        trajectory = sample_trajectory(env, pi, q, epsilons[ep], max_steps)\n",
    "        visited = np.zeros((n_states, n_actions), dtype=\"bool\")\n",
    "        \n",
    "        for t, (state, action, reward, _, _) in enumerate(trajectory):\n",
    "            if first_visit and visited[state][action]:\n",
    "                continue\n",
    "            visited[state][action] = True\n",
    "            n_steps = len(trajectory[t:])\n",
    "            G = np.sum(discounts[:n_steps] * trajectory[t:, 2])\n",
    "            q[state][action] += alphas[ep] * (G - q[state][action])\n",
    "    \n",
    "    value = np.max(q, axis=1)\n",
    "    pi = np.argmax(q, axis=1)\n",
    "    \n",
    "    return value, pi"
   ]
  },
  {
   "cell_type": "code",
   "execution_count": 40,
   "metadata": {},
   "outputs": [],
   "source": [
    "env = gym.make(\"FrozenLake4x4-v2\")"
   ]
  },
  {
   "cell_type": "code",
   "execution_count": 49,
   "metadata": {},
   "outputs": [],
   "source": [
    "mc_val, mc_pi = mc_control(env, gamma=1., n_episodes=100000, max_steps=200, first_visit=True)"
   ]
  },
  {
   "cell_type": "code",
   "execution_count": 50,
   "metadata": {},
   "outputs": [
    {
     "data": {
      "image/png": "[encoded data removed]",
      "text/plain": [
       "<Figure size 500x500 with 2 Axes>"
      ]
     },
     "metadata": {},
     "output_type": "display_data"
    }
   ],
   "source": [
    "env.render(values=mc_val, policy=mc_pi)"
   ]
  },
  {
   "attachments": {},
   "cell_type": "markdown",
   "metadata": {},
   "source": [
    "As we can see MC methods can attain optimal behavior in an environment without having prior knowledge of its dynamics. This is why MC control is called a model-free algorithm; it optimizes the value function of an unknown MDP by learning from interaction with the environment."
   ]
  },
  {
   "attachments": {},
   "cell_type": "markdown",
   "metadata": {},
   "source": [
    "In the next post, we'll look at temporal difference (TD) learning methods which don't even require complete sequences to solve the RL problem."
   ]
  }
 ],
 "metadata": {
  "kernelspec": {
   "display_name": "scibase",
   "language": "python",
   "name": "python3"
  },
  "language_info": {
   "codemirror_mode": {
    "name": "ipython",
    "version": 3
   },
   "file_extension": ".py",
   "mimetype": "text/x-python",
   "name": "python",
   "nbconvert_exporter": "python",
   "pygments_lexer": "ipython3",
   "version": "3.10.9"
  },
  "orig_nbformat": 4,
  "vscode": {
   "interpreter": {
    "hash": "a4940807a15e5c82aae508b8a7e3c064acd6b583a7e8ac2efd324d282a2b204e"
   }
  }
 },
 "nbformat": 4,
 "nbformat_minor": 2
}
